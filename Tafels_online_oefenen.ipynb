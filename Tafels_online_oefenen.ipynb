{
  "nbformat": 4,
  "nbformat_minor": 0,
  "metadata": {
    "colab": {
      "provenance": [],
      "authorship_tag": "ABX9TyMCjFZlne06H/drOZY84YWq",
      "include_colab_link": true
    },
    "kernelspec": {
      "name": "python3",
      "display_name": "Python 3"
    },
    "language_info": {
      "name": "python"
    }
  },
  "cells": [
    {
      "cell_type": "markdown",
      "metadata": {
        "id": "view-in-github",
        "colab_type": "text"
      },
      "source": [
        "<a href=\"https://colab.research.google.com/github/SqlWaldorf/Klascement/blob/main/Tafels_online_oefenen.ipynb\" target=\"_parent\"><img src=\"https://colab.research.google.com/assets/colab-badge.svg\" alt=\"Open In Colab\"/></a>"
      ]
    },
    {
      "cell_type": "markdown",
      "source": [
        "## Tafels van vermenigvuldiging oefenen\n",
        "\n",
        "In onderstaand programma geeft je een lijst op van welke tafels je wilt inoefenen (standaard: 4, 7 en 8) en hoeveel oefeningen je wilt (standaard: 10).\n"
      ],
      "metadata": {
        "id": "iwHsefyWxn-d"
      }
    },
    {
      "cell_type": "code",
      "execution_count": null,
      "metadata": {
        "id": "TiPLX3fOxdiW"
      },
      "outputs": [],
      "source": [
        "minimum = 1\n",
        "maximum = 10\n",
        "aantal_oefeningen = 10\n",
        "te_oefenen_tafels = [4,7,8]\n",
        "############################################################\n",
        "## Hieronder niets aanpassen\n",
        "############################################################\n",
        "score = 0\n",
        "import random\n",
        "import time\n",
        "starttime = time.time()\n",
        "for oefening in range(aantal_oefeningen):\n",
        "  product = te_oefenen_tafels[random.randint(0,len(te_oefenen_tafels)-1)]\n",
        "  print(product, end =\" * \")\n",
        "  wgetal = random.randint(minimum,maximum)\n",
        "  print(wgetal, end=\"\")\n",
        "  product *= wgetal\n",
        "  antwoord = input(\" = \")\n",
        "  if int(antwoord) == product:\n",
        "    print(\"Juist!\")\n",
        "    score +=1\n",
        "  else:\n",
        "    print(\"Fout, het juiste antwoord is \",product)\n",
        "  print(f\"Score = {score} op {oefening+1}\")\n",
        "duur = time.time() - starttime\n",
        "print(f\"Deze oefening duurde {round(duur,2)} seconden, of {round(duur / aantal_oefeningen, 2)} seconden per opgave.\")"
      ]
    }
  ]
}